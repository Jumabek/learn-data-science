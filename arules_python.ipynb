{
 "cells": [
  {
   "cell_type": "markdown",
   "metadata": {},
   "source": [
    "# How to use the R package arules from Python\n",
    "\n",
    "The data need to be prepared as a Pandas dataframe. Here we have 9 transactions with three items called A, B and C. True means that a transaction contains the item."
   ]
  },
  {
   "cell_type": "code",
   "execution_count": 18,
   "metadata": {},
   "outputs": [
    {
     "data": {
      "text/html": [
       "<div>\n",
       "<style scoped>\n",
       "    .dataframe tbody tr th:only-of-type {\n",
       "        vertical-align: middle;\n",
       "    }\n",
       "\n",
       "    .dataframe tbody tr th {\n",
       "        vertical-align: top;\n",
       "    }\n",
       "\n",
       "    .dataframe thead th {\n",
       "        text-align: right;\n",
       "    }\n",
       "</style>\n",
       "<table border=\"1\" class=\"dataframe\">\n",
       "  <thead>\n",
       "    <tr style=\"text-align: right;\">\n",
       "      <th></th>\n",
       "      <th>A</th>\n",
       "      <th>B</th>\n",
       "      <th>C</th>\n",
       "    </tr>\n",
       "  </thead>\n",
       "  <tbody>\n",
       "    <tr>\n",
       "      <th>0</th>\n",
       "      <td>True</td>\n",
       "      <td>True</td>\n",
       "      <td>True</td>\n",
       "    </tr>\n",
       "    <tr>\n",
       "      <th>1</th>\n",
       "      <td>True</td>\n",
       "      <td>False</td>\n",
       "      <td>False</td>\n",
       "    </tr>\n",
       "    <tr>\n",
       "      <th>2</th>\n",
       "      <td>True</td>\n",
       "      <td>True</td>\n",
       "      <td>True</td>\n",
       "    </tr>\n",
       "    <tr>\n",
       "      <th>3</th>\n",
       "      <td>True</td>\n",
       "      <td>False</td>\n",
       "      <td>False</td>\n",
       "    </tr>\n",
       "    <tr>\n",
       "      <th>4</th>\n",
       "      <td>True</td>\n",
       "      <td>True</td>\n",
       "      <td>True</td>\n",
       "    </tr>\n",
       "    <tr>\n",
       "      <th>5</th>\n",
       "      <td>True</td>\n",
       "      <td>False</td>\n",
       "      <td>True</td>\n",
       "    </tr>\n",
       "    <tr>\n",
       "      <th>6</th>\n",
       "      <td>True</td>\n",
       "      <td>True</td>\n",
       "      <td>True</td>\n",
       "    </tr>\n",
       "    <tr>\n",
       "      <th>7</th>\n",
       "      <td>False</td>\n",
       "      <td>False</td>\n",
       "      <td>True</td>\n",
       "    </tr>\n",
       "    <tr>\n",
       "      <th>8</th>\n",
       "      <td>False</td>\n",
       "      <td>True</td>\n",
       "      <td>NaN</td>\n",
       "    </tr>\n",
       "    <tr>\n",
       "      <th>9</th>\n",
       "      <td>True</td>\n",
       "      <td>False</td>\n",
       "      <td>NaN</td>\n",
       "    </tr>\n",
       "  </tbody>\n",
       "</table>\n",
       "</div>"
      ],
      "text/plain": [
       "       A      B      C\n",
       "0   True   True   True\n",
       "1   True  False  False\n",
       "2   True   True   True\n",
       "3   True  False  False\n",
       "4   True   True   True\n",
       "5   True  False   True\n",
       "6   True   True   True\n",
       "7  False  False   True\n",
       "8  False   True    NaN\n",
       "9   True  False    NaN"
      ]
     },
     "execution_count": 18,
     "metadata": {},
     "output_type": "execute_result"
    }
   ],
   "source": [
    "import pandas as pd\n",
    "import numpy as np\n",
    "\n",
    "df = pd.DataFrame (\n",
    "    [\n",
    "        [True,True, True],\n",
    "        [True, False,False],\n",
    "        [True, True, True],\n",
    "        [True, False, False],\n",
    "        [True, True, True],\n",
    "        [True, False, True],\n",
    "        [True, True, True],\n",
    "        [False, False, True],\n",
    "        [False, True,np.nan ],\n",
    "        [True, False, np.nan],\n",
    "    ],\n",
    "    columns=list ('ABC')) \n",
    "\n",
    "df"
   ]
  },
  {
   "cell_type": "markdown",
   "metadata": {},
   "source": [
    "Next, we need to set up the R package arules and rpy2 to connect to R. To install arules, open R and install the package arules using `install.packages(\"arules\")`. To install rpy2, you can use `pip install rpy2`."
   ]
  },
  {
   "cell_type": "code",
   "execution_count": 16,
   "metadata": {},
   "outputs": [],
   "source": [
    "from rpy2.robjects import pandas2ri\n",
    "pandas2ri.activate()\n",
    "\n",
    "import rpy2.robjects as ro\n",
    "from rpy2.robjects.packages import importr\n",
    "\n",
    "arules = importr(\"arules\")\n",
    "\n",
    "# some helper functions\n",
    "def arules_as_matrix(x, what = \"items\"):\n",
    "    return ro.r('function(x) as(' + what + '(x), \"matrix\")')(x)\n",
    "\n",
    "def arules_as_dict(x, what = \"items\"):\n",
    "    l = ro.r('function(x) as(' + what + '(x), \"list\")')(x)\n",
    "    l.names = [*range(0, len(l))]\n",
    "    return dict(zip(l.names, map(list,list(l))))\n",
    "\n",
    "def arules_quality(x):\n",
    "    return x.slots[\"quality\"]"
   ]
  },
  {
   "cell_type": "markdown",
   "metadata": {},
   "source": [
    "## Mine frequent itemsets"
   ]
  },
  {
   "cell_type": "code",
   "execution_count": 19,
   "metadata": {},
   "outputs": [
    {
     "name": "stderr",
     "output_type": "stream",
     "text": [
      "/data/juma/anaconda3/lib/python3.7/site-packages/rpy2/rinterface/__init__.py:146: RRuntimeWarning: Error in asMethod(object) : \n",
      "  column(s) 11, 12 not logical or a factor. Discretize the columns first.\n",
      "\n",
      "  warnings.warn(x, RRuntimeWarning)\n"
     ]
    },
    {
     "ename": "RRuntimeError",
     "evalue": "Error in asMethod(object) : \n  column(s) 11, 12 not logical or a factor. Discretize the columns first.\n",
     "output_type": "error",
     "traceback": [
      "\u001b[0;31m---------------------------------------------------------------------------\u001b[0m",
      "\u001b[0;31mRRuntimeError\u001b[0m                             Traceback (most recent call last)",
      "\u001b[0;32m<ipython-input-19-5bc7326e757a>\u001b[0m in \u001b[0;36m<module>\u001b[0;34m\u001b[0m\n\u001b[1;32m      1\u001b[0m itsets = arules.apriori(df, \n\u001b[0;32m----> 2\u001b[0;31m    parameter = ro.ListVector({\"supp\": 0.1, \"target\": \"frequent itemsets\"}))\n\u001b[0m",
      "\u001b[0;32m~/anaconda3/lib/python3.7/site-packages/rpy2/robjects/functions.py\u001b[0m in \u001b[0;36m__call__\u001b[0;34m(self, *args, **kwargs)\u001b[0m\n\u001b[1;32m    176\u001b[0m                 \u001b[0mv\u001b[0m \u001b[0;34m=\u001b[0m \u001b[0mkwargs\u001b[0m\u001b[0;34m.\u001b[0m\u001b[0mpop\u001b[0m\u001b[0;34m(\u001b[0m\u001b[0mk\u001b[0m\u001b[0;34m)\u001b[0m\u001b[0;34m\u001b[0m\u001b[0;34m\u001b[0m\u001b[0m\n\u001b[1;32m    177\u001b[0m                 \u001b[0mkwargs\u001b[0m\u001b[0;34m[\u001b[0m\u001b[0mr_k\u001b[0m\u001b[0;34m]\u001b[0m \u001b[0;34m=\u001b[0m \u001b[0mv\u001b[0m\u001b[0;34m\u001b[0m\u001b[0;34m\u001b[0m\u001b[0m\n\u001b[0;32m--> 178\u001b[0;31m         \u001b[0;32mreturn\u001b[0m \u001b[0msuper\u001b[0m\u001b[0;34m(\u001b[0m\u001b[0mSignatureTranslatedFunction\u001b[0m\u001b[0;34m,\u001b[0m \u001b[0mself\u001b[0m\u001b[0;34m)\u001b[0m\u001b[0;34m.\u001b[0m\u001b[0m__call__\u001b[0m\u001b[0;34m(\u001b[0m\u001b[0;34m*\u001b[0m\u001b[0margs\u001b[0m\u001b[0;34m,\u001b[0m \u001b[0;34m**\u001b[0m\u001b[0mkwargs\u001b[0m\u001b[0;34m)\u001b[0m\u001b[0;34m\u001b[0m\u001b[0;34m\u001b[0m\u001b[0m\n\u001b[0m\u001b[1;32m    179\u001b[0m \u001b[0;34m\u001b[0m\u001b[0m\n\u001b[1;32m    180\u001b[0m \u001b[0mpattern_link\u001b[0m \u001b[0;34m=\u001b[0m \u001b[0mre\u001b[0m\u001b[0;34m.\u001b[0m\u001b[0mcompile\u001b[0m\u001b[0;34m(\u001b[0m\u001b[0;34mr'\\\\link\\{(.+?)\\}'\u001b[0m\u001b[0;34m)\u001b[0m\u001b[0;34m\u001b[0m\u001b[0;34m\u001b[0m\u001b[0m\n",
      "\u001b[0;32m~/anaconda3/lib/python3.7/site-packages/rpy2/robjects/functions.py\u001b[0m in \u001b[0;36m__call__\u001b[0;34m(self, *args, **kwargs)\u001b[0m\n\u001b[1;32m    104\u001b[0m         \u001b[0;32mfor\u001b[0m \u001b[0mk\u001b[0m\u001b[0;34m,\u001b[0m \u001b[0mv\u001b[0m \u001b[0;32min\u001b[0m \u001b[0mkwargs\u001b[0m\u001b[0;34m.\u001b[0m\u001b[0mitems\u001b[0m\u001b[0;34m(\u001b[0m\u001b[0;34m)\u001b[0m\u001b[0;34m:\u001b[0m\u001b[0;34m\u001b[0m\u001b[0;34m\u001b[0m\u001b[0m\n\u001b[1;32m    105\u001b[0m             \u001b[0mnew_kwargs\u001b[0m\u001b[0;34m[\u001b[0m\u001b[0mk\u001b[0m\u001b[0;34m]\u001b[0m \u001b[0;34m=\u001b[0m \u001b[0mconversion\u001b[0m\u001b[0;34m.\u001b[0m\u001b[0mpy2ri\u001b[0m\u001b[0;34m(\u001b[0m\u001b[0mv\u001b[0m\u001b[0;34m)\u001b[0m\u001b[0;34m\u001b[0m\u001b[0;34m\u001b[0m\u001b[0m\n\u001b[0;32m--> 106\u001b[0;31m         \u001b[0mres\u001b[0m \u001b[0;34m=\u001b[0m \u001b[0msuper\u001b[0m\u001b[0;34m(\u001b[0m\u001b[0mFunction\u001b[0m\u001b[0;34m,\u001b[0m \u001b[0mself\u001b[0m\u001b[0;34m)\u001b[0m\u001b[0;34m.\u001b[0m\u001b[0m__call__\u001b[0m\u001b[0;34m(\u001b[0m\u001b[0;34m*\u001b[0m\u001b[0mnew_args\u001b[0m\u001b[0;34m,\u001b[0m \u001b[0;34m**\u001b[0m\u001b[0mnew_kwargs\u001b[0m\u001b[0;34m)\u001b[0m\u001b[0;34m\u001b[0m\u001b[0;34m\u001b[0m\u001b[0m\n\u001b[0m\u001b[1;32m    107\u001b[0m         \u001b[0mres\u001b[0m \u001b[0;34m=\u001b[0m \u001b[0mconversion\u001b[0m\u001b[0;34m.\u001b[0m\u001b[0mri2ro\u001b[0m\u001b[0;34m(\u001b[0m\u001b[0mres\u001b[0m\u001b[0;34m)\u001b[0m\u001b[0;34m\u001b[0m\u001b[0;34m\u001b[0m\u001b[0m\n\u001b[1;32m    108\u001b[0m         \u001b[0;32mreturn\u001b[0m \u001b[0mres\u001b[0m\u001b[0;34m\u001b[0m\u001b[0;34m\u001b[0m\u001b[0m\n",
      "\u001b[0;31mRRuntimeError\u001b[0m: Error in asMethod(object) : \n  column(s) 11, 12 not logical or a factor. Discretize the columns first.\n"
     ]
    }
   ],
   "source": [
    "itsets = arules.apriori(df, \n",
    "   parameter = ro.ListVector({\"supp\": 0.1, \"target\": \"frequent itemsets\"}))"
   ]
  },
  {
   "cell_type": "code",
   "execution_count": 4,
   "metadata": {},
   "outputs": [
    {
     "name": "stdout",
     "output_type": "stream",
     "text": [
      "    items support count\n",
      "1     {B}     0.5     5\n",
      "2     {A}     0.8     8\n",
      "3     {C}     0.8     8\n",
      "4   {A,B}     0.4     4\n",
      "5   {B,C}     0.5     5\n",
      "6   {A,C}     0.6     6\n",
      "7 {A,B,C}     0.4     4\n",
      "\n"
     ]
    }
   ],
   "source": [
    "print(arules.DATAFRAME(itsets))"
   ]
  },
  {
   "cell_type": "markdown",
   "metadata": {},
   "source": [
    "The frequent itemsets can be accessed as a binary matrix."
   ]
  },
  {
   "cell_type": "code",
   "execution_count": 5,
   "metadata": {},
   "outputs": [
    {
     "name": "stdout",
     "output_type": "stream",
     "text": [
      "         A     B     C\n",
      "[1,] FALSE  TRUE FALSE\n",
      "[2,]  TRUE FALSE FALSE\n",
      "[3,] FALSE FALSE  TRUE\n",
      "[4,]  TRUE  TRUE FALSE\n",
      "[5,] FALSE  TRUE  TRUE\n",
      "[6,]  TRUE FALSE  TRUE\n",
      "[7,]  TRUE  TRUE  TRUE\n",
      "\n"
     ]
    }
   ],
   "source": [
    "its = arules_as_matrix(itsets)\n",
    "print(its)"
   ]
  },
  {
   "cell_type": "markdown",
   "metadata": {},
   "source": [
    "Access itemset as a dictionary"
   ]
  },
  {
   "cell_type": "code",
   "execution_count": 6,
   "metadata": {},
   "outputs": [
    {
     "name": "stdout",
     "output_type": "stream",
     "text": [
      "{'0': ['B'], '1': ['A'], '2': ['C'], '3': ['A', 'B'], '4': ['B', 'C'], '5': ['A', 'C'], '6': ['A', 'B', 'C']}\n"
     ]
    }
   ],
   "source": [
    "its = arules_as_dict(itsets)\n",
    "print(its)"
   ]
  },
  {
   "cell_type": "markdown",
   "metadata": {},
   "source": [
    "Accessing the quality measures"
   ]
  },
  {
   "cell_type": "code",
   "execution_count": 7,
   "metadata": {},
   "outputs": [
    {
     "data": {
      "text/html": [
       "\n",
       "    <span>R/rpy2 DataFrame (7 x 2)</span>\n",
       "    <table>\n",
       "      <thead>\n",
       "        <tr>\n",
       "        \n",
       "          <th>support</th>\n",
       "        \n",
       "          <th>count</th>\n",
       "        \n",
       "        </tr>\n",
       "      </thead>\n",
       "      <tbody>\n",
       "      \n",
       "      <tr>\n",
       "      \n",
       "      <td>\n",
       "        0.500000\n",
       "      </td>\n",
       "      \n",
       "      <td>\n",
       "        5.000000\n",
       "      </td>\n",
       "      \n",
       "      </tr>\n",
       "      \n",
       "      <tr>\n",
       "      \n",
       "      <td>\n",
       "        0.800000\n",
       "      </td>\n",
       "      \n",
       "      <td>\n",
       "        8.000000\n",
       "      </td>\n",
       "      \n",
       "      </tr>\n",
       "      \n",
       "      <tr>\n",
       "      \n",
       "      <td>\n",
       "        0.800000\n",
       "      </td>\n",
       "      \n",
       "      <td>\n",
       "        8.000000\n",
       "      </td>\n",
       "      \n",
       "      </tr>\n",
       "      \n",
       "      <tr>\n",
       "      \n",
       "      <td>\n",
       "        0.400000\n",
       "      </td>\n",
       "      \n",
       "      <td>\n",
       "        4.000000\n",
       "      </td>\n",
       "      \n",
       "      </tr>\n",
       "      \n",
       "      <tr>\n",
       "      \n",
       "      <td>\n",
       "        0.500000\n",
       "      </td>\n",
       "      \n",
       "      <td>\n",
       "        5.000000\n",
       "      </td>\n",
       "      \n",
       "      </tr>\n",
       "      \n",
       "      <tr>\n",
       "      \n",
       "      <td>\n",
       "        0.600000\n",
       "      </td>\n",
       "      \n",
       "      <td>\n",
       "        6.000000\n",
       "      </td>\n",
       "      \n",
       "      </tr>\n",
       "      \n",
       "      <tr>\n",
       "      \n",
       "      <td>\n",
       "        0.400000\n",
       "      </td>\n",
       "      \n",
       "      <td>\n",
       "        4.000000\n",
       "      </td>\n",
       "      \n",
       "      </tr>\n",
       "      \n",
       "      </tbody>\n",
       "    </table>\n",
       "    "
      ],
      "text/plain": [
       "R object with classes: ('data.frame',) mapped to:\n",
       "<DataFrame - Python:0x7f8b3ee005f0 / R:0x557edb48bec8>\n",
       "[FloatVector, FloatVector]\n",
       "  support: <class 'rpy2.robjects.vectors.FloatVector'>\n",
       "  R object with classes: ('numeric',) mapped to:\n",
       "<FloatVector - Python:0x7f8b534fedc0 / R:0x557edb480d28>\n",
       "[0.500000, 0.800000, 0.800000, 0.400000, 0.500000, 0.600000, 0.400000]\n",
       "  count: <class 'rpy2.robjects.vectors.FloatVector'>\n",
       "  R object with classes: ('numeric',) mapped to:\n",
       "<FloatVector - Python:0x7f8b5348e050 / R:0x557edb489cf8>\n",
       "[5.000000, 8.000000, 8.000000, 4.000000, 5.000000, 6.000000, 4.000000]"
      ]
     },
     "execution_count": 7,
     "metadata": {},
     "output_type": "execute_result"
    }
   ],
   "source": [
    "arules_quality(itsets)"
   ]
  },
  {
   "cell_type": "markdown",
   "metadata": {},
   "source": [
    "## Mine association rules"
   ]
  },
  {
   "cell_type": "code",
   "execution_count": 8,
   "metadata": {},
   "outputs": [
    {
     "name": "stdout",
     "output_type": "stream",
     "text": [
      "Apriori\n",
      "\n",
      "\n",
      "Parameter specification:\n",
      "\n",
      "\n",
      " confidence\n",
      " minval\n",
      " smax\n",
      " arem\n",
      "  aval\n",
      " originalSupport\n",
      " maxtime\n",
      " support\n",
      " minlen\n",
      "\n",
      "\n",
      "        0.8\n",
      "    0.1\n",
      "    1\n",
      " none\n",
      " FALSE\n",
      "            TRUE\n",
      "       5\n",
      "     0.1\n",
      "      1\n",
      "\n",
      "\n",
      "\n",
      " maxlen\n",
      " target\n",
      "   ext\n",
      "\n",
      "\n",
      "     10\n",
      "  rules\n",
      " FALSE\n",
      "\n",
      "\n",
      "\n",
      "Algorithmic control:\n",
      "\n",
      "\n",
      " filter\n",
      " tree\n",
      " heap\n",
      " memopt\n",
      " load\n",
      " sort\n",
      " verbose\n",
      "\n",
      "\n",
      "    0.1\n",
      " TRUE\n",
      " TRUE\n",
      "  FALSE\n",
      " TRUE\n",
      "    2\n",
      "    TRUE\n",
      "\n",
      "\n",
      "\n",
      "Absolute minimum support count:\n",
      " \n",
      "1\n",
      " \n",
      "\n",
      "\n",
      "\n",
      "set item appearances ...\n",
      "[0 item(s)] done \n",
      "[0.00s].\n",
      "\n",
      "set transactions ...\n",
      "[3 item(s),\n",
      " 10 transaction(s)] done \n",
      "[0.00s].\n",
      "\n",
      "\n",
      "sorting and recoding items ... \n",
      "[3 item(s)] \n",
      "done [0.00s].\n",
      "\n",
      "\n",
      "creating transaction tree ... \n",
      "done [0.00s].\n",
      "\n",
      "checking subsets of size 1\n",
      " 2\n",
      " 3\n",
      " done [0.00s].\n",
      "\n",
      "writing ... \n",
      "[6 rule(s)] done \n",
      "[0.00s].\n",
      "\n",
      "creating S4 object  ... \n",
      "done \n",
      "[0.00s].\n",
      "\n"
     ]
    }
   ],
   "source": [
    "rules = arules.apriori(df, \n",
    "   parameter = ro.ListVector({\"supp\": 0.1, \"conf\": 0.8}))"
   ]
  },
  {
   "cell_type": "code",
   "execution_count": 9,
   "metadata": {},
   "outputs": [
    {
     "name": "stdout",
     "output_type": "stream",
     "text": [
      "    LHS RHS support confidence lift count\n",
      "1    {} {A}     0.8        0.8 1.00     8\n",
      "2    {} {C}     0.8        0.8 1.00     8\n",
      "3   {B} {A}     0.4        0.8 1.00     4\n",
      "4   {B} {C}     0.5        1.0 1.25     5\n",
      "5 {A,B} {C}     0.4        1.0 1.25     4\n",
      "6 {B,C} {A}     0.4        0.8 1.00     4\n",
      "\n"
     ]
    }
   ],
   "source": [
    "print(arules.DATAFRAME(rules))"
   ]
  },
  {
   "cell_type": "markdown",
   "metadata": {},
   "source": [
    "Get the left-hand-side, the right-hand-side and the rule quality."
   ]
  },
  {
   "cell_type": "code",
   "execution_count": 10,
   "metadata": {},
   "outputs": [
    {
     "name": "stdout",
     "output_type": "stream",
     "text": [
      "         A     B     C\n",
      "[1,] FALSE FALSE FALSE\n",
      "[2,] FALSE FALSE FALSE\n",
      "[3,] FALSE  TRUE FALSE\n",
      "[4,] FALSE  TRUE FALSE\n",
      "[5,]  TRUE  TRUE FALSE\n",
      "[6,] FALSE  TRUE  TRUE\n",
      "\n"
     ]
    }
   ],
   "source": [
    "lhs = arules_as_matrix(rules, what = \"lhs\")\n",
    "print (lhs)"
   ]
  },
  {
   "cell_type": "code",
   "execution_count": 11,
   "metadata": {},
   "outputs": [
    {
     "name": "stdout",
     "output_type": "stream",
     "text": [
      "         A     B     C\n",
      "[1,]  TRUE FALSE FALSE\n",
      "[2,] FALSE FALSE  TRUE\n",
      "[3,]  TRUE FALSE FALSE\n",
      "[4,] FALSE FALSE  TRUE\n",
      "[5,] FALSE FALSE  TRUE\n",
      "[6,]  TRUE FALSE FALSE\n",
      "\n"
     ]
    }
   ],
   "source": [
    "rhs = arules_as_matrix(rules, what = \"rhs\")\n",
    "print(rhs)"
   ]
  },
  {
   "cell_type": "code",
   "execution_count": 12,
   "metadata": {},
   "outputs": [
    {
     "name": "stdout",
     "output_type": "stream",
     "text": [
      "{'0': [], '1': [], '2': ['B'], '3': ['B'], '4': ['A', 'B'], '5': ['B', 'C']}\n"
     ]
    }
   ],
   "source": [
    "lhs = arules_as_dict(rules, what = \"lhs\")\n",
    "print (lhs)"
   ]
  },
  {
   "cell_type": "code",
   "execution_count": 13,
   "metadata": {},
   "outputs": [
    {
     "name": "stdout",
     "output_type": "stream",
     "text": [
      "{'0': ['A'], '1': ['C'], '2': ['A'], '3': ['C'], '4': ['C'], '5': ['A']}\n"
     ]
    }
   ],
   "source": [
    "rhs = arules_as_dict(rules, what = \"rhs\")\n",
    "print (rhs)"
   ]
  },
  {
   "cell_type": "code",
   "execution_count": 14,
   "metadata": {},
   "outputs": [
    {
     "data": {
      "text/html": [
       "\n",
       "    <span>R/rpy2 DataFrame (6 x 4)</span>\n",
       "    <table>\n",
       "      <thead>\n",
       "        <tr>\n",
       "        \n",
       "          <th>support</th>\n",
       "        \n",
       "          <th>confidence</th>\n",
       "        \n",
       "          <th>lift</th>\n",
       "        \n",
       "          <th>count</th>\n",
       "        \n",
       "        </tr>\n",
       "      </thead>\n",
       "      <tbody>\n",
       "      \n",
       "      <tr>\n",
       "      \n",
       "      <td>\n",
       "        0.800000\n",
       "      </td>\n",
       "      \n",
       "      <td>\n",
       "        0.800000\n",
       "      </td>\n",
       "      \n",
       "      <td>\n",
       "        1.000000\n",
       "      </td>\n",
       "      \n",
       "      <td>\n",
       "        8.000000\n",
       "      </td>\n",
       "      \n",
       "      </tr>\n",
       "      \n",
       "      <tr>\n",
       "      \n",
       "      <td>\n",
       "        0.800000\n",
       "      </td>\n",
       "      \n",
       "      <td>\n",
       "        0.800000\n",
       "      </td>\n",
       "      \n",
       "      <td>\n",
       "        1.000000\n",
       "      </td>\n",
       "      \n",
       "      <td>\n",
       "        8.000000\n",
       "      </td>\n",
       "      \n",
       "      </tr>\n",
       "      \n",
       "      <tr>\n",
       "      \n",
       "      <td>\n",
       "        0.400000\n",
       "      </td>\n",
       "      \n",
       "      <td>\n",
       "        0.800000\n",
       "      </td>\n",
       "      \n",
       "      <td>\n",
       "        1.000000\n",
       "      </td>\n",
       "      \n",
       "      <td>\n",
       "        4.000000\n",
       "      </td>\n",
       "      \n",
       "      </tr>\n",
       "      \n",
       "      <tr>\n",
       "      \n",
       "      <td>\n",
       "        0.500000\n",
       "      </td>\n",
       "      \n",
       "      <td>\n",
       "        1.000000\n",
       "      </td>\n",
       "      \n",
       "      <td>\n",
       "        1.250000\n",
       "      </td>\n",
       "      \n",
       "      <td>\n",
       "        5.000000\n",
       "      </td>\n",
       "      \n",
       "      </tr>\n",
       "      \n",
       "      <tr>\n",
       "      \n",
       "      <td>\n",
       "        0.400000\n",
       "      </td>\n",
       "      \n",
       "      <td>\n",
       "        1.000000\n",
       "      </td>\n",
       "      \n",
       "      <td>\n",
       "        1.250000\n",
       "      </td>\n",
       "      \n",
       "      <td>\n",
       "        4.000000\n",
       "      </td>\n",
       "      \n",
       "      </tr>\n",
       "      \n",
       "      <tr>\n",
       "      \n",
       "      <td>\n",
       "        0.400000\n",
       "      </td>\n",
       "      \n",
       "      <td>\n",
       "        0.800000\n",
       "      </td>\n",
       "      \n",
       "      <td>\n",
       "        1.000000\n",
       "      </td>\n",
       "      \n",
       "      <td>\n",
       "        4.000000\n",
       "      </td>\n",
       "      \n",
       "      </tr>\n",
       "      \n",
       "      </tbody>\n",
       "    </table>\n",
       "    "
      ],
      "text/plain": [
       "R object with classes: ('data.frame',) mapped to:\n",
       "<DataFrame - Python:0x7f8b3e814640 / R:0x557ede86c218>\n",
       "[FloatVector, FloatVector, FloatVector, FloatVector]\n",
       "  support: <class 'rpy2.robjects.vectors.FloatVector'>\n",
       "  R object with classes: ('numeric',) mapped to:\n",
       "<FloatVector - Python:0x7f8b3e7fd6e0 / R:0x557ede291358>\n",
       "[0.800000, 0.800000, 0.400000, 0.500000, 0.400000, 0.400000]\n",
       "  confidence: <class 'rpy2.robjects.vectors.FloatVector'>\n",
       "  R object with classes: ('numeric',) mapped to:\n",
       "<FloatVector - Python:0x7f8b3e7fdaf0 / R:0x557ede291208>\n",
       "[0.800000, 0.800000, 0.800000, 1.000000, 1.000000, 0.800000]\n",
       "  lift: <class 'rpy2.robjects.vectors.FloatVector'>\n",
       "  R object with classes: ('numeric',) mapped to:\n",
       "<FloatVector - Python:0x7f8b3e7fd640 / R:0x557ede291128>\n",
       "[1.000000, 1.000000, 1.000000, 1.250000, 1.250000, 1.000000]\n",
       "  count: <class 'rpy2.robjects.vectors.FloatVector'>\n",
       "  R object with classes: ('numeric',) mapped to:\n",
       "<FloatVector - Python:0x7f8b3edf06e0 / R:0x557ede290a28>\n",
       "[8.000000, 8.000000, 4.000000, 5.000000, 4.000000, 4.000000]"
      ]
     },
     "execution_count": 14,
     "metadata": {},
     "output_type": "execute_result"
    }
   ],
   "source": [
    "arules_quality(rules)"
   ]
  },
  {
   "cell_type": "code",
   "execution_count": null,
   "metadata": {},
   "outputs": [],
   "source": []
  }
 ],
 "metadata": {
  "kernelspec": {
   "display_name": "Python 3",
   "language": "python",
   "name": "python3"
  },
  "language_info": {
   "codemirror_mode": {
    "name": "ipython",
    "version": 3
   },
   "file_extension": ".py",
   "mimetype": "text/x-python",
   "name": "python",
   "nbconvert_exporter": "python",
   "pygments_lexer": "ipython3",
   "version": "3.7.6"
  }
 },
 "nbformat": 4,
 "nbformat_minor": 4
}
